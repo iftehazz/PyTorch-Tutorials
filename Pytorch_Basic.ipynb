{
  "nbformat": 4,
  "nbformat_minor": 0,
  "metadata": {
    "colab": {
      "provenance": []
    },
    "kernelspec": {
      "name": "python3",
      "display_name": "Python 3"
    },
    "language_info": {
      "name": "python"
    },
    "accelerator": "GPU",
    "gpuClass": "standard"
  },
  "cells": [
    {
      "cell_type": "code",
      "execution_count": null,
      "metadata": {
        "colab": {
          "base_uri": "https://localhost:8080/"
        },
        "id": "bvv7OB5KCYD9",
        "outputId": "02f018c9-e743-492a-a538-36585488bb40"
      },
      "outputs": [
        {
          "output_type": "stream",
          "name": "stdout",
          "text": [
            "2.0.0+cu118\n"
          ]
        }
      ],
      "source": [
        "import torch\n",
        "print(torch.__version__)"
      ]
    },
    {
      "cell_type": "code",
      "source": [
        "scalar = torch.tensor(7)\n",
        "scalar"
      ],
      "metadata": {
        "colab": {
          "base_uri": "https://localhost:8080/"
        },
        "id": "p3IOkWs9Cg9g",
        "outputId": "2bee395b-9a4c-4a15-d756-14e1646d7d7e"
      },
      "execution_count": null,
      "outputs": [
        {
          "output_type": "execute_result",
          "data": {
            "text/plain": [
              "tensor(7)"
            ]
          },
          "metadata": {},
          "execution_count": 2
        }
      ]
    },
    {
      "cell_type": "code",
      "source": [
        "scalar.ndim"
      ],
      "metadata": {
        "colab": {
          "base_uri": "https://localhost:8080/"
        },
        "id": "Kp-dXrKmCthK",
        "outputId": "821ad562-65cb-43a0-fa39-33782e67b202"
      },
      "execution_count": null,
      "outputs": [
        {
          "output_type": "execute_result",
          "data": {
            "text/plain": [
              "0"
            ]
          },
          "metadata": {},
          "execution_count": 3
        }
      ]
    },
    {
      "cell_type": "code",
      "source": [
        "# get tensor back python int\n",
        "scalar.item()"
      ],
      "metadata": {
        "colab": {
          "base_uri": "https://localhost:8080/"
        },
        "id": "_h0s42BICt6Z",
        "outputId": "657c1598-d1a2-49f8-b7b1-8480536844d6"
      },
      "execution_count": null,
      "outputs": [
        {
          "output_type": "execute_result",
          "data": {
            "text/plain": [
              "7"
            ]
          },
          "metadata": {},
          "execution_count": 4
        }
      ]
    },
    {
      "cell_type": "code",
      "source": [
        "vector = torch.tensor([7, 7])\n",
        "vector"
      ],
      "metadata": {
        "colab": {
          "base_uri": "https://localhost:8080/"
        },
        "id": "90E8VFlICt8V",
        "outputId": "c903f51c-59b3-45f3-f09b-2975c1c566b1"
      },
      "execution_count": null,
      "outputs": [
        {
          "output_type": "execute_result",
          "data": {
            "text/plain": [
              "tensor([7, 7])"
            ]
          },
          "metadata": {},
          "execution_count": 5
        }
      ]
    },
    {
      "cell_type": "code",
      "source": [
        "vector.ndim"
      ],
      "metadata": {
        "colab": {
          "base_uri": "https://localhost:8080/"
        },
        "id": "LPsdwKGkCt-O",
        "outputId": "ef3721d5-7da3-4663-80d5-c34e43b552d4"
      },
      "execution_count": null,
      "outputs": [
        {
          "output_type": "execute_result",
          "data": {
            "text/plain": [
              "1"
            ]
          },
          "metadata": {},
          "execution_count": 6
        }
      ]
    },
    {
      "cell_type": "code",
      "source": [
        "vector.shape"
      ],
      "metadata": {
        "colab": {
          "base_uri": "https://localhost:8080/"
        },
        "id": "OfJ-3O4SCuAV",
        "outputId": "1a4127e6-aa88-4e54-9f73-92b70c5bb661"
      },
      "execution_count": null,
      "outputs": [
        {
          "output_type": "execute_result",
          "data": {
            "text/plain": [
              "torch.Size([2])"
            ]
          },
          "metadata": {},
          "execution_count": 7
        }
      ]
    },
    {
      "cell_type": "markdown",
      "source": [
        "^it means vector has 2 by 1 elements"
      ],
      "metadata": {
        "id": "THtUlLOiDahG"
      }
    },
    {
      "cell_type": "code",
      "source": [
        "matrix = torch.tensor([[7, 8], [9,10]])\n",
        "matrix"
      ],
      "metadata": {
        "colab": {
          "base_uri": "https://localhost:8080/"
        },
        "id": "o8evQlRnCuCd",
        "outputId": "8cb1b1ba-1652-4e15-bebb-fc4758aefcc8"
      },
      "execution_count": null,
      "outputs": [
        {
          "output_type": "execute_result",
          "data": {
            "text/plain": [
              "tensor([[ 7,  8],\n",
              "        [ 9, 10]])"
            ]
          },
          "metadata": {},
          "execution_count": 8
        }
      ]
    },
    {
      "cell_type": "code",
      "source": [
        "matrix.ndim"
      ],
      "metadata": {
        "colab": {
          "base_uri": "https://localhost:8080/"
        },
        "id": "r1VHrmyPCuEb",
        "outputId": "566f622d-591d-4e3d-f327-c3108f4a739f"
      },
      "execution_count": null,
      "outputs": [
        {
          "output_type": "execute_result",
          "data": {
            "text/plain": [
              "2"
            ]
          },
          "metadata": {},
          "execution_count": 9
        }
      ]
    },
    {
      "cell_type": "code",
      "source": [
        "matrix.shape"
      ],
      "metadata": {
        "colab": {
          "base_uri": "https://localhost:8080/"
        },
        "id": "NSp85QOjCuHM",
        "outputId": "5f416ab3-61f6-4b01-b651-ff5dbeb63811"
      },
      "execution_count": null,
      "outputs": [
        {
          "output_type": "execute_result",
          "data": {
            "text/plain": [
              "torch.Size([2, 2])"
            ]
          },
          "metadata": {},
          "execution_count": 10
        }
      ]
    },
    {
      "cell_type": "code",
      "source": [
        "TENSOR = torch.tensor([[[1, 2, 3], [3, 6, 9], [2, 4, 5]]])\n",
        "TENSOR"
      ],
      "metadata": {
        "colab": {
          "base_uri": "https://localhost:8080/"
        },
        "id": "ycQlga39Fu-F",
        "outputId": "5623e243-b4a0-4ab4-9192-8417c66f3606"
      },
      "execution_count": null,
      "outputs": [
        {
          "output_type": "execute_result",
          "data": {
            "text/plain": [
              "tensor([[[1, 2, 3],\n",
              "         [3, 6, 9],\n",
              "         [2, 4, 5]]])"
            ]
          },
          "metadata": {},
          "execution_count": 11
        }
      ]
    },
    {
      "cell_type": "code",
      "source": [
        "TENSOR.ndim"
      ],
      "metadata": {
        "colab": {
          "base_uri": "https://localhost:8080/"
        },
        "id": "7lopJu3mGj6R",
        "outputId": "b1d87717-ef7b-4872-a0fb-466f6bf15bfe"
      },
      "execution_count": null,
      "outputs": [
        {
          "output_type": "execute_result",
          "data": {
            "text/plain": [
              "3"
            ]
          },
          "metadata": {},
          "execution_count": 12
        }
      ]
    },
    {
      "cell_type": "code",
      "source": [
        "TENSOR.shape"
      ],
      "metadata": {
        "colab": {
          "base_uri": "https://localhost:8080/"
        },
        "id": "rcBlzEa5GlSy",
        "outputId": "8c8214df-5e38-4257-df70-4351a7b0b082"
      },
      "execution_count": null,
      "outputs": [
        {
          "output_type": "execute_result",
          "data": {
            "text/plain": [
              "torch.Size([1, 3, 3])"
            ]
          },
          "metadata": {},
          "execution_count": 13
        }
      ]
    },
    {
      "cell_type": "code",
      "source": [
        "TENSOR[0]"
      ],
      "metadata": {
        "colab": {
          "base_uri": "https://localhost:8080/"
        },
        "id": "QBpkxoE8GrCV",
        "outputId": "4351074d-5d7d-4eff-f11d-46ab14e32da8"
      },
      "execution_count": null,
      "outputs": [
        {
          "output_type": "execute_result",
          "data": {
            "text/plain": [
              "tensor([[1, 2, 3],\n",
              "        [3, 6, 9],\n",
              "        [2, 4, 5]])"
            ]
          },
          "metadata": {},
          "execution_count": 14
        }
      ]
    },
    {
      "cell_type": "code",
      "source": [
        "random_tensor = torch.rand(10, 10, 10)\n",
        "random_tensor"
      ],
      "metadata": {
        "colab": {
          "base_uri": "https://localhost:8080/"
        },
        "id": "Y0dbws7oG6Pd",
        "outputId": "bf6cd06e-a306-4e7d-b9cd-04b32b2eff1b"
      },
      "execution_count": null,
      "outputs": [
        {
          "output_type": "execute_result",
          "data": {
            "text/plain": [
              "tensor([[[2.5472e-01, 8.7973e-01, 1.9718e-01, 3.2452e-02, 6.6467e-01,\n",
              "          9.5667e-01, 8.4114e-01, 6.4530e-01, 1.9954e-01, 1.8542e-01],\n",
              "         [3.5824e-01, 6.1184e-01, 2.8954e-01, 1.4541e-01, 1.2747e-01,\n",
              "          4.5043e-01, 2.2629e-01, 7.3308e-01, 5.3914e-01, 8.0920e-02],\n",
              "         [2.0428e-01, 5.6059e-01, 8.4822e-02, 8.0738e-01, 1.0531e-01,\n",
              "          9.2477e-01, 9.7959e-01, 2.5748e-01, 9.9720e-01, 4.1013e-01],\n",
              "         [8.0538e-01, 5.0066e-01, 7.9963e-01, 6.9457e-01, 9.7548e-01,\n",
              "          5.1531e-01, 2.2557e-01, 3.3011e-01, 4.2580e-01, 7.1304e-01],\n",
              "         [1.7797e-01, 9.3191e-01, 8.7748e-01, 2.3180e-01, 1.4336e-01,\n",
              "          4.0109e-01, 9.6913e-01, 8.8313e-01, 2.9903e-01, 8.4679e-01],\n",
              "         [2.3637e-01, 4.9814e-01, 6.9650e-01, 8.3686e-01, 3.0214e-01,\n",
              "          7.0545e-01, 5.5978e-01, 2.8063e-01, 9.0098e-01, 7.8329e-01],\n",
              "         [3.0671e-01, 7.0037e-01, 1.5129e-01, 5.1763e-01, 9.3647e-01,\n",
              "          9.0044e-01, 5.8034e-01, 9.0956e-01, 3.6664e-01, 6.2497e-01],\n",
              "         [6.0837e-01, 4.1419e-01, 2.5227e-01, 8.7818e-01, 5.3833e-01,\n",
              "          3.1790e-02, 2.3034e-01, 3.6974e-02, 5.6982e-01, 6.6925e-01],\n",
              "         [3.0615e-01, 6.0536e-01, 5.3546e-01, 1.9207e-01, 3.2189e-01,\n",
              "          5.3392e-01, 8.6088e-01, 5.4893e-01, 3.1889e-03, 6.0707e-02],\n",
              "         [7.7961e-01, 1.3086e-01, 8.7406e-01, 7.2861e-01, 7.5405e-01,\n",
              "          5.0470e-01, 5.7197e-01, 4.1866e-01, 8.7930e-01, 1.5307e-01]],\n",
              "\n",
              "        [[5.8505e-01, 6.0908e-01, 6.2991e-02, 4.7591e-02, 9.4495e-01,\n",
              "          3.7555e-01, 5.8336e-01, 9.1323e-01, 9.9823e-01, 8.8830e-01],\n",
              "         [5.3241e-02, 7.5829e-01, 2.7870e-01, 2.1050e-01, 5.4820e-01,\n",
              "          1.5520e-01, 9.8571e-01, 2.1837e-01, 7.0808e-02, 9.7055e-01],\n",
              "         [3.6413e-01, 3.6703e-01, 4.8742e-02, 7.6071e-02, 9.3824e-01,\n",
              "          5.0178e-02, 6.9428e-01, 2.0368e-01, 3.4310e-01, 1.6233e-01],\n",
              "         [4.5702e-01, 1.1195e-01, 8.5832e-03, 7.7862e-01, 5.3291e-01,\n",
              "          3.2615e-01, 9.1776e-01, 7.1412e-01, 3.3606e-01, 8.7275e-01],\n",
              "         [5.8232e-01, 4.2028e-02, 9.2480e-01, 6.1613e-01, 5.3771e-01,\n",
              "          8.7499e-01, 2.7831e-01, 9.9922e-01, 7.6109e-01, 7.3834e-01],\n",
              "         [9.8549e-01, 2.8288e-01, 6.2289e-01, 2.9726e-01, 2.3792e-01,\n",
              "          4.1233e-01, 8.2697e-01, 1.6014e-01, 6.2920e-01, 5.6592e-01],\n",
              "         [1.6114e-01, 7.9064e-01, 8.3120e-01, 6.7540e-01, 5.8826e-01,\n",
              "          1.1632e-01, 2.8500e-01, 9.9253e-01, 7.9471e-01, 4.0558e-01],\n",
              "         [8.4108e-01, 1.4809e-01, 7.1823e-01, 6.4544e-01, 7.5689e-01,\n",
              "          4.6399e-01, 6.4874e-01, 7.6470e-01, 7.9311e-01, 8.2518e-01],\n",
              "         [3.6942e-01, 2.0387e-01, 5.1207e-01, 8.8157e-01, 3.1413e-01,\n",
              "          8.8423e-01, 8.4216e-01, 7.2153e-01, 1.2018e-01, 8.3967e-01],\n",
              "         [5.4101e-01, 7.3347e-01, 4.4273e-01, 5.3099e-01, 6.3380e-01,\n",
              "          4.0558e-01, 2.5890e-01, 9.9204e-02, 9.2250e-04, 1.0981e-01]],\n",
              "\n",
              "        [[5.5090e-02, 5.8412e-01, 3.9260e-01, 4.4099e-01, 3.1451e-01,\n",
              "          6.2199e-01, 5.5707e-01, 9.7911e-01, 9.4866e-01, 2.1521e-01],\n",
              "         [1.7222e-01, 9.3494e-02, 7.8782e-01, 9.1942e-01, 3.2872e-01,\n",
              "          2.5884e-01, 7.8323e-01, 3.3206e-01, 5.8979e-01, 5.6057e-01],\n",
              "         [5.4604e-01, 8.2259e-01, 6.1440e-01, 5.4035e-01, 2.1744e-01,\n",
              "          9.6629e-01, 5.7422e-01, 9.6748e-01, 9.4601e-01, 4.1321e-01],\n",
              "         [9.5854e-01, 6.5779e-01, 7.6057e-02, 5.7858e-01, 2.5667e-01,\n",
              "          6.1346e-01, 6.8819e-01, 5.5560e-01, 4.0638e-01, 8.1915e-03],\n",
              "         [9.2624e-01, 4.8567e-01, 4.2111e-02, 2.1771e-01, 2.4908e-01,\n",
              "          7.6026e-01, 2.7349e-01, 9.4508e-03, 2.7186e-01, 9.0704e-01],\n",
              "         [7.0147e-01, 6.7424e-02, 2.0325e-02, 1.0395e-01, 2.3969e-01,\n",
              "          3.4798e-01, 2.6264e-01, 7.3125e-02, 9.3659e-01, 1.3658e-01],\n",
              "         [5.3679e-01, 5.1595e-01, 1.3096e-01, 7.4051e-01, 5.8150e-01,\n",
              "          9.1182e-01, 5.9857e-01, 7.3734e-01, 3.7000e-01, 5.7220e-01],\n",
              "         [6.8170e-01, 7.7120e-01, 4.9677e-01, 8.1174e-01, 6.0608e-01,\n",
              "          1.7725e-01, 8.5100e-01, 2.1803e-01, 9.1909e-01, 4.4472e-01],\n",
              "         [9.7221e-01, 4.9071e-01, 3.2403e-01, 9.5253e-01, 8.1223e-01,\n",
              "          2.1270e-01, 9.8562e-01, 2.6196e-01, 9.5961e-01, 2.9078e-01],\n",
              "         [1.2583e-01, 6.2480e-01, 1.7593e-01, 2.5718e-01, 7.5095e-01,\n",
              "          7.9204e-01, 4.3002e-02, 4.6520e-01, 8.2381e-01, 7.8862e-01]],\n",
              "\n",
              "        [[1.5200e-02, 3.4082e-01, 6.2695e-02, 6.3975e-01, 9.7432e-01,\n",
              "          5.8600e-01, 1.4603e-01, 6.5887e-01, 1.4125e-01, 8.5709e-01],\n",
              "         [1.1323e-01, 3.9217e-01, 4.8987e-02, 3.0741e-01, 2.2865e-01,\n",
              "          4.5898e-01, 7.8060e-01, 3.6743e-01, 8.5622e-01, 5.3034e-01],\n",
              "         [3.9103e-01, 5.4704e-01, 2.6605e-01, 9.7842e-01, 9.1776e-02,\n",
              "          2.4571e-01, 9.6530e-01, 4.4484e-02, 3.1213e-02, 3.5009e-01],\n",
              "         [7.6681e-01, 4.1032e-03, 7.1596e-01, 9.6628e-01, 7.4747e-01,\n",
              "          1.5986e-01, 3.4714e-01, 1.8311e-01, 4.3447e-01, 1.6245e-01],\n",
              "         [7.2977e-01, 1.2590e-01, 8.5583e-01, 7.5493e-01, 2.4829e-01,\n",
              "          1.0566e-01, 3.5467e-01, 3.1000e-01, 9.5118e-01, 4.7145e-01],\n",
              "         [5.5073e-01, 4.6080e-01, 1.5005e-01, 5.4037e-01, 2.3259e-01,\n",
              "          6.1178e-03, 5.6854e-01, 1.0937e-02, 9.9022e-01, 7.3197e-01],\n",
              "         [2.7400e-01, 8.6282e-01, 1.6303e-01, 3.3690e-01, 6.3002e-01,\n",
              "          3.7752e-01, 3.1446e-01, 6.8429e-01, 3.1947e-01, 5.3953e-01],\n",
              "         [6.9400e-01, 2.7587e-01, 8.4298e-01, 7.4816e-01, 9.9977e-01,\n",
              "          8.2700e-01, 5.8613e-01, 3.4061e-01, 2.6784e-01, 2.2404e-01],\n",
              "         [6.8408e-01, 1.0818e-01, 9.4086e-01, 9.3031e-01, 2.3377e-01,\n",
              "          8.3007e-01, 8.5740e-01, 3.6300e-01, 6.6851e-01, 7.8264e-02],\n",
              "         [4.8506e-01, 9.2390e-02, 4.2983e-01, 6.7337e-01, 1.3964e-01,\n",
              "          4.1069e-01, 5.7765e-01, 6.7951e-01, 1.5030e-01, 4.1052e-01]],\n",
              "\n",
              "        [[8.3053e-01, 4.7612e-01, 1.7026e-02, 8.3534e-01, 6.7292e-01,\n",
              "          4.7761e-01, 5.6769e-01, 5.4890e-01, 8.8848e-01, 3.1184e-01],\n",
              "         [7.1009e-01, 4.6720e-02, 3.2400e-01, 8.4712e-01, 8.6358e-02,\n",
              "          9.1962e-02, 7.2818e-01, 2.0534e-01, 8.6185e-01, 5.6776e-02],\n",
              "         [4.5398e-01, 7.0885e-01, 5.8733e-01, 2.1909e-01, 1.8754e-02,\n",
              "          4.7030e-01, 4.1782e-01, 8.5724e-01, 9.3328e-01, 6.3409e-01],\n",
              "         [6.7519e-01, 1.9122e-01, 8.1762e-01, 8.9517e-01, 1.9813e-01,\n",
              "          4.0627e-03, 5.0228e-01, 2.1266e-01, 7.8567e-01, 1.3626e-01],\n",
              "         [5.6198e-01, 7.5708e-01, 7.4738e-01, 8.1393e-01, 1.8562e-01,\n",
              "          9.6563e-01, 4.6444e-01, 3.1130e-01, 6.1955e-01, 4.2335e-01],\n",
              "         [3.4177e-01, 5.3793e-01, 8.5736e-01, 5.9608e-01, 3.3560e-01,\n",
              "          1.5995e-01, 9.1643e-01, 5.6857e-01, 7.0660e-01, 8.5853e-01],\n",
              "         [5.5522e-01, 3.9189e-01, 5.3377e-01, 9.4436e-01, 2.3165e-02,\n",
              "          8.8740e-01, 1.0085e-01, 5.2533e-01, 6.2739e-01, 8.6664e-01],\n",
              "         [1.9516e-01, 1.2159e-01, 8.0760e-01, 5.9466e-01, 9.2515e-01,\n",
              "          7.8431e-01, 1.4272e-01, 9.1327e-01, 7.4948e-01, 1.7064e-01],\n",
              "         [6.9609e-01, 4.0265e-02, 8.5769e-01, 8.4991e-01, 3.0904e-01,\n",
              "          5.4600e-01, 1.8305e-01, 3.1040e-01, 3.0986e-01, 6.5363e-01],\n",
              "         [2.8974e-01, 3.7891e-01, 5.2529e-01, 8.8078e-01, 9.3176e-02,\n",
              "          6.0663e-01, 4.4982e-01, 5.7053e-01, 1.8455e-02, 8.8208e-01]],\n",
              "\n",
              "        [[2.1838e-01, 2.9143e-01, 9.0796e-01, 7.9692e-01, 5.8566e-02,\n",
              "          5.1105e-02, 7.9229e-01, 6.4757e-01, 6.9652e-01, 5.0699e-01],\n",
              "         [4.7444e-01, 6.0474e-01, 3.2631e-01, 6.8716e-01, 3.1769e-02,\n",
              "          3.7594e-01, 5.5640e-01, 7.1614e-01, 1.1438e-01, 5.0086e-01],\n",
              "         [5.5500e-01, 9.0814e-01, 4.1201e-01, 2.4368e-01, 5.2401e-02,\n",
              "          5.3045e-01, 9.3865e-01, 2.0685e-01, 1.4408e-01, 5.9239e-01],\n",
              "         [2.2630e-01, 7.8075e-02, 6.3898e-01, 8.1599e-01, 7.2935e-01,\n",
              "          7.4016e-02, 9.9237e-01, 6.8442e-01, 9.0427e-01, 7.4602e-01],\n",
              "         [4.5650e-01, 4.3319e-01, 5.0497e-02, 3.7634e-02, 9.0906e-01,\n",
              "          9.9898e-01, 7.8886e-01, 5.7428e-01, 6.1357e-01, 2.4272e-01],\n",
              "         [1.0023e-01, 7.2120e-02, 1.4510e-01, 4.2619e-02, 5.1166e-01,\n",
              "          4.9055e-01, 3.2893e-01, 2.6990e-01, 1.6648e-01, 7.7610e-01],\n",
              "         [9.3259e-01, 9.5823e-01, 3.8216e-01, 6.8050e-01, 3.5376e-01,\n",
              "          7.6306e-01, 2.1784e-01, 6.2055e-01, 9.4910e-01, 6.5536e-01],\n",
              "         [2.1937e-01, 3.2926e-01, 3.7177e-01, 2.5437e-01, 6.3037e-01,\n",
              "          6.9712e-01, 4.0773e-01, 7.7717e-01, 7.8258e-01, 6.7951e-01],\n",
              "         [6.6318e-02, 8.7278e-01, 4.0636e-02, 6.1115e-01, 2.3340e-01,\n",
              "          1.7082e-01, 3.3528e-01, 2.0851e-01, 4.9252e-01, 7.8103e-01],\n",
              "         [1.6695e-01, 1.8121e-01, 3.0386e-01, 9.6379e-01, 2.3736e-02,\n",
              "          8.1574e-01, 6.3180e-01, 4.2436e-01, 6.8621e-01, 8.3959e-01]],\n",
              "\n",
              "        [[2.9605e-01, 5.3633e-01, 4.8832e-01, 5.7229e-01, 9.0565e-01,\n",
              "          3.8975e-01, 6.5669e-01, 8.2639e-01, 3.5697e-01, 7.8204e-01],\n",
              "         [3.6001e-02, 5.6908e-01, 5.5718e-03, 7.1059e-01, 4.2411e-01,\n",
              "          1.6235e-01, 9.7145e-01, 8.3550e-01, 7.6907e-01, 5.3272e-01],\n",
              "         [2.5199e-01, 5.8658e-02, 1.1675e-01, 9.9841e-01, 9.0470e-01,\n",
              "          1.8156e-01, 2.3603e-01, 4.5896e-01, 7.4408e-01, 6.9454e-01],\n",
              "         [3.1045e-01, 7.1657e-01, 2.4211e-01, 1.9780e-01, 8.5110e-01,\n",
              "          9.0220e-02, 1.3700e-01, 6.1990e-01, 7.5422e-01, 1.0562e-01],\n",
              "         [9.5567e-01, 7.6595e-01, 2.6978e-01, 4.5771e-01, 5.9118e-01,\n",
              "          5.6929e-01, 7.0528e-01, 1.9658e-01, 1.6749e-01, 4.7274e-01],\n",
              "         [3.4654e-01, 7.5281e-02, 4.8073e-02, 2.6370e-01, 9.4566e-01,\n",
              "          6.2614e-01, 5.3574e-01, 8.0823e-01, 6.9092e-01, 6.7221e-02],\n",
              "         [8.1211e-01, 4.5460e-01, 8.0811e-01, 1.7176e-01, 1.8140e-01,\n",
              "          6.3500e-01, 5.3955e-01, 2.2663e-01, 4.9740e-01, 3.8950e-01],\n",
              "         [2.7232e-01, 1.1252e-01, 6.7125e-01, 8.1731e-01, 4.2004e-01,\n",
              "          4.2784e-01, 5.1958e-01, 2.2736e-01, 1.1953e-01, 4.1554e-01],\n",
              "         [3.6813e-01, 5.0602e-02, 5.4523e-01, 7.3204e-01, 3.7768e-02,\n",
              "          6.1246e-01, 2.7588e-01, 5.8896e-01, 6.4876e-01, 8.2612e-01],\n",
              "         [3.8804e-01, 4.0894e-01, 3.2602e-01, 6.6443e-01, 2.4460e-01,\n",
              "          9.5103e-01, 4.6894e-01, 1.9527e-01, 1.6996e-01, 3.5041e-01]],\n",
              "\n",
              "        [[3.8119e-01, 4.2404e-01, 8.5584e-01, 8.9556e-01, 7.2564e-01,\n",
              "          3.7655e-01, 3.6253e-01, 8.9517e-01, 2.3121e-02, 6.1735e-01],\n",
              "         [7.8268e-02, 9.0659e-01, 4.1764e-01, 5.5887e-02, 9.3928e-01,\n",
              "          8.8456e-01, 5.3537e-01, 7.0773e-01, 8.6132e-01, 2.5011e-01],\n",
              "         [6.3449e-01, 7.4674e-01, 8.4505e-01, 6.4344e-01, 7.4721e-02,\n",
              "          4.7297e-01, 4.1837e-02, 5.6017e-01, 2.4139e-01, 3.3934e-01],\n",
              "         [7.1182e-01, 4.9670e-01, 1.4639e-01, 8.3412e-01, 4.5086e-01,\n",
              "          8.6692e-01, 4.9469e-01, 4.7336e-01, 3.7126e-01, 8.9941e-01],\n",
              "         [9.9204e-01, 7.1020e-01, 3.8235e-01, 9.9624e-01, 9.5962e-01,\n",
              "          2.8055e-02, 9.1649e-01, 8.8718e-01, 4.8089e-01, 2.4270e-01],\n",
              "         [4.1751e-01, 6.4616e-01, 7.8166e-01, 8.3864e-01, 1.2443e-01,\n",
              "          4.6876e-01, 8.9259e-01, 1.5335e-01, 2.2565e-01, 5.0592e-01],\n",
              "         [6.0773e-01, 4.5722e-01, 5.2921e-01, 3.1561e-01, 3.0212e-01,\n",
              "          3.0259e-01, 5.9485e-02, 9.2388e-02, 2.8632e-01, 8.8583e-01],\n",
              "         [1.4128e-01, 5.0848e-01, 8.3570e-01, 9.2344e-02, 6.9484e-01,\n",
              "          6.2927e-01, 6.7694e-01, 6.2043e-01, 7.8324e-01, 2.1166e-01],\n",
              "         [3.6733e-01, 7.2556e-01, 5.6397e-01, 7.0655e-01, 8.5558e-01,\n",
              "          7.1457e-01, 8.9269e-01, 3.1826e-01, 7.4024e-01, 3.4286e-02],\n",
              "         [2.0114e-01, 6.7097e-01, 4.2768e-01, 9.7927e-01, 2.2908e-01,\n",
              "          9.2541e-01, 4.9455e-02, 3.8579e-01, 3.8709e-01, 8.6612e-02]],\n",
              "\n",
              "        [[5.0881e-01, 6.6744e-01, 5.2601e-01, 2.9505e-01, 2.0647e-01,\n",
              "          3.4746e-02, 7.6064e-01, 4.5510e-01, 8.7468e-01, 9.0172e-02],\n",
              "         [8.3774e-01, 4.9025e-02, 1.5373e-01, 3.8305e-01, 2.5186e-01,\n",
              "          1.2186e-01, 9.5500e-01, 4.5078e-01, 4.5585e-01, 9.7013e-01],\n",
              "         [2.1456e-01, 2.4532e-01, 5.0302e-01, 3.6289e-01, 3.8362e-01,\n",
              "          9.2303e-02, 7.1618e-01, 5.2753e-01, 1.0068e-01, 8.3683e-01],\n",
              "         [6.6224e-03, 6.8905e-01, 8.2733e-01, 1.3886e-01, 8.7214e-01,\n",
              "          5.1010e-01, 3.9174e-01, 3.5608e-01, 8.4107e-01, 7.7182e-01],\n",
              "         [5.4971e-01, 5.6002e-01, 1.4794e-01, 3.5101e-01, 9.6315e-01,\n",
              "          7.8028e-01, 8.3251e-01, 5.0526e-01, 1.5436e-01, 1.2095e-01],\n",
              "         [7.4563e-01, 7.2207e-01, 7.8485e-01, 2.1176e-01, 1.8159e-01,\n",
              "          5.6978e-01, 8.2261e-01, 9.9451e-01, 7.3099e-01, 2.4862e-01],\n",
              "         [9.1135e-02, 5.4533e-01, 7.5550e-01, 3.8732e-01, 6.1377e-01,\n",
              "          8.9947e-01, 9.2447e-01, 6.3550e-01, 3.9178e-02, 9.9170e-01],\n",
              "         [1.0679e-01, 2.4870e-01, 4.1055e-01, 6.8345e-01, 9.1792e-01,\n",
              "          6.9014e-01, 9.3124e-01, 8.5171e-01, 5.6582e-01, 8.2095e-01],\n",
              "         [2.7680e-01, 6.9874e-01, 3.4169e-01, 7.6019e-01, 7.6827e-01,\n",
              "          4.9322e-01, 2.2550e-01, 1.1565e-01, 1.8108e-01, 8.9823e-01],\n",
              "         [9.6412e-01, 1.3845e-01, 3.8279e-01, 4.1823e-01, 1.5224e-01,\n",
              "          2.8045e-01, 7.3664e-01, 2.5179e-01, 8.6398e-02, 3.7699e-01]],\n",
              "\n",
              "        [[5.6406e-01, 1.5810e-01, 5.9408e-02, 7.4567e-01, 7.0067e-01,\n",
              "          3.3336e-01, 4.9550e-01, 4.1115e-01, 7.7566e-01, 6.2511e-01],\n",
              "         [5.8588e-01, 2.4543e-01, 4.5529e-01, 4.1500e-01, 7.8549e-01,\n",
              "          1.5548e-01, 2.5720e-01, 5.1736e-01, 4.4287e-01, 5.1365e-01],\n",
              "         [6.1362e-01, 3.7786e-01, 5.6817e-01, 6.5915e-01, 4.5184e-01,\n",
              "          2.7088e-01, 3.8168e-01, 5.6283e-01, 3.5244e-01, 6.8477e-02],\n",
              "         [9.9591e-02, 1.7329e-01, 4.7347e-01, 4.2881e-02, 7.4654e-01,\n",
              "          5.4107e-01, 3.4694e-01, 6.0033e-01, 9.7751e-01, 6.7025e-01],\n",
              "         [3.8184e-01, 1.2013e-01, 7.3201e-01, 7.9338e-01, 9.6663e-01,\n",
              "          5.5353e-01, 5.5388e-01, 8.8596e-01, 5.1778e-01, 3.1772e-01],\n",
              "         [4.1868e-01, 2.7746e-01, 8.2958e-02, 8.0029e-01, 1.8696e-01,\n",
              "          9.4665e-01, 3.9248e-01, 2.4722e-01, 9.2085e-01, 5.8710e-01],\n",
              "         [4.9643e-02, 9.1193e-01, 5.0490e-01, 1.9746e-01, 1.1312e-01,\n",
              "          3.7593e-01, 1.5044e-01, 6.0463e-01, 3.0510e-01, 4.3830e-01],\n",
              "         [8.0701e-01, 6.7875e-01, 3.6472e-01, 1.7284e-01, 3.1449e-01,\n",
              "          4.5808e-01, 1.8794e-01, 8.9458e-01, 4.2426e-01, 9.7994e-01],\n",
              "         [4.0529e-01, 7.9772e-01, 8.8057e-01, 8.3628e-02, 4.7102e-01,\n",
              "          2.5483e-01, 5.6034e-02, 4.8270e-02, 1.2405e-01, 7.2195e-01],\n",
              "         [4.1413e-01, 7.0427e-01, 7.3641e-01, 4.5306e-01, 8.2412e-01,\n",
              "          1.4538e-01, 6.4294e-01, 1.0372e-01, 2.8840e-01, 1.6899e-01]]])"
            ]
          },
          "metadata": {},
          "execution_count": 15
        }
      ]
    },
    {
      "cell_type": "code",
      "source": [
        "random_tensor.ndim"
      ],
      "metadata": {
        "colab": {
          "base_uri": "https://localhost:8080/"
        },
        "id": "sH39eSOVHkhv",
        "outputId": "98c138e8-3dc2-4899-d52a-e7eb404a2ce5"
      },
      "execution_count": null,
      "outputs": [
        {
          "output_type": "execute_result",
          "data": {
            "text/plain": [
              "3"
            ]
          },
          "metadata": {},
          "execution_count": 16
        }
      ]
    },
    {
      "cell_type": "code",
      "source": [
        "random_tensor.shape"
      ],
      "metadata": {
        "colab": {
          "base_uri": "https://localhost:8080/"
        },
        "id": "ivTeiRLIHkjz",
        "outputId": "ad218a64-51af-4b42-8553-89a931c1c972"
      },
      "execution_count": null,
      "outputs": [
        {
          "output_type": "execute_result",
          "data": {
            "text/plain": [
              "torch.Size([10, 10, 10])"
            ]
          },
          "metadata": {},
          "execution_count": 17
        }
      ]
    },
    {
      "cell_type": "code",
      "source": [
        "# random tensor w/ similar shape to an image tensor\n",
        "\n",
        "random_image_size_tensor = torch.rand(size=(224, 224, 3))\n",
        "random_image_size_tensor.shape, random_image_size_tensor.ndim"
      ],
      "metadata": {
        "colab": {
          "base_uri": "https://localhost:8080/"
        },
        "id": "i7UM478IHkmJ",
        "outputId": "d92f1b72-3b46-458b-d0c3-0bef63c0bcd6"
      },
      "execution_count": null,
      "outputs": [
        {
          "output_type": "execute_result",
          "data": {
            "text/plain": [
              "(torch.Size([224, 224, 3]), 3)"
            ]
          },
          "metadata": {},
          "execution_count": 18
        }
      ]
    },
    {
      "cell_type": "code",
      "source": [
        "zeros = torch.zeros(3,4)\n",
        "zeros"
      ],
      "metadata": {
        "colab": {
          "base_uri": "https://localhost:8080/"
        },
        "id": "W_PtEt3GHkoR",
        "outputId": "1e45fa3d-d79d-4839-dc4b-c721d954647f"
      },
      "execution_count": null,
      "outputs": [
        {
          "output_type": "execute_result",
          "data": {
            "text/plain": [
              "tensor([[0., 0., 0., 0.],\n",
              "        [0., 0., 0., 0.],\n",
              "        [0., 0., 0., 0.]])"
            ]
          },
          "metadata": {},
          "execution_count": 19
        }
      ]
    },
    {
      "cell_type": "code",
      "source": [
        "random_tensor = torch.rand(3, 4)\n",
        "random_tensor"
      ],
      "metadata": {
        "colab": {
          "base_uri": "https://localhost:8080/"
        },
        "id": "C0RXtxysJrZv",
        "outputId": "9a5cecb3-f508-4216-aac9-a06c5a8676c5"
      },
      "execution_count": null,
      "outputs": [
        {
          "output_type": "execute_result",
          "data": {
            "text/plain": [
              "tensor([[0.2176, 0.3917, 0.7183, 0.9708],\n",
              "        [0.3140, 0.6747, 0.1342, 0.8025],\n",
              "        [0.0759, 0.1479, 0.2953, 0.1331]])"
            ]
          },
          "metadata": {},
          "execution_count": 20
        }
      ]
    },
    {
      "cell_type": "code",
      "source": [
        "zeros*random_tensor"
      ],
      "metadata": {
        "colab": {
          "base_uri": "https://localhost:8080/"
        },
        "id": "mPYqwldqJTlp",
        "outputId": "476eedd8-d008-4bd0-ebae-55efd55b8b84"
      },
      "execution_count": null,
      "outputs": [
        {
          "output_type": "execute_result",
          "data": {
            "text/plain": [
              "tensor([[0., 0., 0., 0.],\n",
              "        [0., 0., 0., 0.],\n",
              "        [0., 0., 0., 0.]])"
            ]
          },
          "metadata": {},
          "execution_count": 21
        }
      ]
    },
    {
      "cell_type": "code",
      "source": [
        "ones = torch.ones(3,4)\n",
        "ones"
      ],
      "metadata": {
        "colab": {
          "base_uri": "https://localhost:8080/"
        },
        "id": "hJbGb1IiJTnW",
        "outputId": "6ab3a16d-d2ae-47fd-eff5-36cb57522a3b"
      },
      "execution_count": null,
      "outputs": [
        {
          "output_type": "execute_result",
          "data": {
            "text/plain": [
              "tensor([[1., 1., 1., 1.],\n",
              "        [1., 1., 1., 1.],\n",
              "        [1., 1., 1., 1.]])"
            ]
          },
          "metadata": {},
          "execution_count": 22
        }
      ]
    },
    {
      "cell_type": "code",
      "source": [
        "ones*random_tensor"
      ],
      "metadata": {
        "colab": {
          "base_uri": "https://localhost:8080/"
        },
        "id": "TTLSTOU3JTpq",
        "outputId": "37ceba68-fefa-4b9a-d839-5ae945db7785"
      },
      "execution_count": null,
      "outputs": [
        {
          "output_type": "execute_result",
          "data": {
            "text/plain": [
              "tensor([[0.2176, 0.3917, 0.7183, 0.9708],\n",
              "        [0.3140, 0.6747, 0.1342, 0.8025],\n",
              "        [0.0759, 0.1479, 0.2953, 0.1331]])"
            ]
          },
          "metadata": {},
          "execution_count": 23
        }
      ]
    },
    {
      "cell_type": "code",
      "source": [
        "ones.dtype"
      ],
      "metadata": {
        "colab": {
          "base_uri": "https://localhost:8080/"
        },
        "id": "rO4ng08wJTrW",
        "outputId": "6f3f4c1d-cd08-4835-e70c-ca4165e16062"
      },
      "execution_count": null,
      "outputs": [
        {
          "output_type": "execute_result",
          "data": {
            "text/plain": [
              "torch.float32"
            ]
          },
          "metadata": {},
          "execution_count": 24
        }
      ]
    },
    {
      "cell_type": "code",
      "source": [
        "one_to_ten = torch.arange(1, 11, 2) # start, end, step\n",
        "one_to_ten"
      ],
      "metadata": {
        "colab": {
          "base_uri": "https://localhost:8080/"
        },
        "id": "ASy-m_eXJTtI",
        "outputId": "7b7f1307-cf7e-4ab8-eae5-7f413bc0e2c9"
      },
      "execution_count": null,
      "outputs": [
        {
          "output_type": "execute_result",
          "data": {
            "text/plain": [
              "tensor([1, 3, 5, 7, 9])"
            ]
          },
          "metadata": {},
          "execution_count": 25
        }
      ]
    },
    {
      "cell_type": "code",
      "source": [
        "zeros_like_one_to_ten = torch.zeros_like(input=one_to_ten)\n",
        "zeros_like_one_to_ten"
      ],
      "metadata": {
        "colab": {
          "base_uri": "https://localhost:8080/"
        },
        "id": "zzFM2p3RJTwk",
        "outputId": "bfba8089-3c35-40fb-ed48-e6cea11cbea6"
      },
      "execution_count": null,
      "outputs": [
        {
          "output_type": "execute_result",
          "data": {
            "text/plain": [
              "tensor([0, 0, 0, 0, 0])"
            ]
          },
          "metadata": {},
          "execution_count": 26
        }
      ]
    },
    {
      "cell_type": "markdown",
      "source": [
        "**Note**: Tensor datatypes is one of the 3 big errors you'll run into with Pytorch & deep learning\n",
        "\n",
        "1. Tensors not right datatype\n",
        "2. Tensors not right shape\n",
        "3. Tensors not right device"
      ],
      "metadata": {
        "id": "LofhbPf4MHJW"
      }
    },
    {
      "cell_type": "code",
      "source": [
        "float_32_tensor = torch.tensor([3.0, 6.0, 9.0],\n",
        "                               dtype=None, #datatypes torch.float16 or torch.float32 etc.\n",
        "                               device = None, # such as cpu, cuda\n",
        "                               requires_grad = False) # whether ot not track gradients with this tensor operation\n",
        "float_32_tensor"
      ],
      "metadata": {
        "colab": {
          "base_uri": "https://localhost:8080/"
        },
        "id": "RhPQu3e5Hkrv",
        "outputId": "797d7ff1-f0b0-40ae-8180-5835e242ca4d"
      },
      "execution_count": null,
      "outputs": [
        {
          "output_type": "execute_result",
          "data": {
            "text/plain": [
              "tensor([3., 6., 9.])"
            ]
          },
          "metadata": {},
          "execution_count": 27
        }
      ]
    },
    {
      "cell_type": "code",
      "source": [
        "float_32_tensor.dtype"
      ],
      "metadata": {
        "colab": {
          "base_uri": "https://localhost:8080/"
        },
        "id": "qsgmieGdLQ1O",
        "outputId": "fb1250a2-1d51-4a35-b254-a5ec3c3dffe6"
      },
      "execution_count": null,
      "outputs": [
        {
          "output_type": "execute_result",
          "data": {
            "text/plain": [
              "torch.float32"
            ]
          },
          "metadata": {},
          "execution_count": 28
        }
      ]
    },
    {
      "cell_type": "markdown",
      "source": [
        "**How to chanage datatype**"
      ],
      "metadata": {
        "id": "3M9QwqQPP9Pl"
      }
    },
    {
      "cell_type": "code",
      "source": [
        "float_16_tensor = float_32_tensor.type(torch.float16)\n",
        "float_16_tensor.dtype"
      ],
      "metadata": {
        "colab": {
          "base_uri": "https://localhost:8080/"
        },
        "id": "4pGkkrRpLVV4",
        "outputId": "25519d7d-d015-4599-b064-073a9bb72895"
      },
      "execution_count": null,
      "outputs": [
        {
          "output_type": "execute_result",
          "data": {
            "text/plain": [
              "torch.float16"
            ]
          },
          "metadata": {},
          "execution_count": 29
        }
      ]
    },
    {
      "cell_type": "code",
      "source": [
        "float_32_tensor * float_16_tensor"
      ],
      "metadata": {
        "colab": {
          "base_uri": "https://localhost:8080/"
        },
        "id": "VZgAsjHEPCOj",
        "outputId": "4dbc3c29-0223-4cbc-c549-459da9d5eb30"
      },
      "execution_count": null,
      "outputs": [
        {
          "output_type": "execute_result",
          "data": {
            "text/plain": [
              "tensor([ 9., 36., 81.])"
            ]
          },
          "metadata": {},
          "execution_count": 30
        }
      ]
    },
    {
      "cell_type": "code",
      "source": [
        "int_32_tensor = torch.tensor([3, 6, 9],\n",
        "                             dtype=torch.int32)\n",
        "int_32_tensor"
      ],
      "metadata": {
        "colab": {
          "base_uri": "https://localhost:8080/"
        },
        "id": "j6Myp8yhPZbW",
        "outputId": "b917cd84-e4e8-4a31-f48d-4c0e675776bb"
      },
      "execution_count": null,
      "outputs": [
        {
          "output_type": "execute_result",
          "data": {
            "text/plain": [
              "tensor([3, 6, 9], dtype=torch.int32)"
            ]
          },
          "metadata": {},
          "execution_count": 31
        }
      ]
    },
    {
      "cell_type": "code",
      "source": [
        "float_32_tensor * int_32_tensor"
      ],
      "metadata": {
        "colab": {
          "base_uri": "https://localhost:8080/"
        },
        "id": "YMU_3oVaPZdN",
        "outputId": "b80596a8-e060-42a2-abfc-c53d56d2689b"
      },
      "execution_count": null,
      "outputs": [
        {
          "output_type": "execute_result",
          "data": {
            "text/plain": [
              "tensor([ 9., 36., 81.])"
            ]
          },
          "metadata": {},
          "execution_count": 32
        }
      ]
    },
    {
      "cell_type": "markdown",
      "source": [
        "###Getting information from tensors (tensor attributes)\n",
        "\n",
        "1. Tensors not right datatype - get datatype by tensor.dtype\n",
        "2. Tensors not right shape - get shape by tensor.shape\n",
        "3. Tensors not right device - get device by tensor.device\n"
      ],
      "metadata": {
        "id": "U7KtcHldQ5Ok"
      }
    },
    {
      "cell_type": "code",
      "source": [
        "some_tensor = torch.rand(3, 4)\n",
        "some_tensor"
      ],
      "metadata": {
        "colab": {
          "base_uri": "https://localhost:8080/"
        },
        "id": "wV2AgEq4PZfb",
        "outputId": "b8e81c56-1581-462b-f876-dd692767a42c"
      },
      "execution_count": null,
      "outputs": [
        {
          "output_type": "execute_result",
          "data": {
            "text/plain": [
              "tensor([[0.4013, 0.5751, 0.4062, 0.1614],\n",
              "        [0.2614, 0.7522, 0.5075, 0.1055],\n",
              "        [0.7103, 0.7272, 0.1793, 0.5551]])"
            ]
          },
          "metadata": {},
          "execution_count": 33
        }
      ]
    },
    {
      "cell_type": "code",
      "source": [
        "print(some_tensor)\n",
        "print(f\"Data type of Tensor: {some_tensor.dtype}\")\n",
        "print(f\"Shape of Tensor: {some_tensor.shape}\")\n",
        "print(f\"Device Tensor is on: {some_tensor.device}\")"
      ],
      "metadata": {
        "colab": {
          "base_uri": "https://localhost:8080/"
        },
        "id": "YB6ioUfcQCIN",
        "outputId": "df93a15d-b2ca-4516-e688-b36384620aa4"
      },
      "execution_count": null,
      "outputs": [
        {
          "output_type": "stream",
          "name": "stdout",
          "text": [
            "tensor([[0.4013, 0.5751, 0.4062, 0.1614],\n",
            "        [0.2614, 0.7522, 0.5075, 0.1055],\n",
            "        [0.7103, 0.7272, 0.1793, 0.5551]])\n",
            "Data type of Tensor: torch.float32\n",
            "Shape of Tensor: torch.Size([3, 4])\n",
            "Device Tensor is on: cpu\n"
          ]
        }
      ]
    },
    {
      "cell_type": "markdown",
      "source": [
        "### Manipulating Tensors (tensor opeartions)\n",
        "\n",
        "Tensor operation include:\n",
        "* Addition\n",
        "* Subtraction\n",
        "* Multiplication (element wise)\n",
        "* Division\n",
        "* Matrix Multiplication"
      ],
      "metadata": {
        "id": "E2NcdiK6QCLi"
      }
    },
    {
      "cell_type": "code",
      "source": [
        "# create a tensor and add 10 to it\n",
        "\n",
        "tensor = torch.tensor([1, 2, 3])\n"
      ],
      "metadata": {
        "id": "85oJzIwWSJRr"
      },
      "execution_count": null,
      "outputs": []
    },
    {
      "cell_type": "code",
      "source": [
        "tensor + 10"
      ],
      "metadata": {
        "colab": {
          "base_uri": "https://localhost:8080/"
        },
        "id": "pqWmQdLIa5kO",
        "outputId": "257a5f2b-78d3-4f8c-e6a2-adfaa8dcd3c9"
      },
      "execution_count": null,
      "outputs": [
        {
          "output_type": "execute_result",
          "data": {
            "text/plain": [
              "tensor([11, 12, 13])"
            ]
          },
          "metadata": {},
          "execution_count": 36
        }
      ]
    },
    {
      "cell_type": "code",
      "source": [
        "tensor*10"
      ],
      "metadata": {
        "id": "2Piav9wySJTo",
        "colab": {
          "base_uri": "https://localhost:8080/"
        },
        "outputId": "c53e930b-9409-4868-da9d-a15bbe75ecd7"
      },
      "execution_count": null,
      "outputs": [
        {
          "output_type": "execute_result",
          "data": {
            "text/plain": [
              "tensor([10, 20, 30])"
            ]
          },
          "metadata": {},
          "execution_count": 37
        }
      ]
    },
    {
      "cell_type": "code",
      "source": [
        "tensor -10"
      ],
      "metadata": {
        "id": "MYsljdmJSJXW",
        "colab": {
          "base_uri": "https://localhost:8080/"
        },
        "outputId": "cef9be64-b2ca-443b-c697-120bc06e5c0f"
      },
      "execution_count": null,
      "outputs": [
        {
          "output_type": "execute_result",
          "data": {
            "text/plain": [
              "tensor([-9, -8, -7])"
            ]
          },
          "metadata": {},
          "execution_count": 38
        }
      ]
    },
    {
      "cell_type": "code",
      "source": [
        "# you can use built-in function\n",
        "torch.mul(tensor, 10)\n",
        "torch.add(tensor, 10)\n",
        "torch.sub(tensor, 10)"
      ],
      "metadata": {
        "id": "ulQ__XiuSJaP",
        "colab": {
          "base_uri": "https://localhost:8080/"
        },
        "outputId": "436deb0d-2379-4f90-9641-146d47edc670"
      },
      "execution_count": null,
      "outputs": [
        {
          "output_type": "execute_result",
          "data": {
            "text/plain": [
              "tensor([-9, -8, -7])"
            ]
          },
          "metadata": {},
          "execution_count": 39
        }
      ]
    },
    {
      "cell_type": "markdown",
      "source": [
        "### Matrix Multiplication\n",
        "\n",
        "Two main ways of doing Multiplication in neural network and deep learning:\n",
        "\n",
        "1. Element-wise Multiplication\n",
        "2. Matrix Multiplication (dot product)"
      ],
      "metadata": {
        "id": "rIr-gR_1SJcP"
      }
    },
    {
      "cell_type": "code",
      "source": [
        "# element wise\n",
        "print(f\"{tensor} * {tensor} is: {tensor * tensor}\")"
      ],
      "metadata": {
        "id": "8vqkO5yISJel",
        "colab": {
          "base_uri": "https://localhost:8080/"
        },
        "outputId": "a91fd2ac-155d-4968-8408-778d83567804"
      },
      "execution_count": null,
      "outputs": [
        {
          "output_type": "stream",
          "name": "stdout",
          "text": [
            "tensor([1, 2, 3]) * tensor([1, 2, 3]) is: tensor([1, 4, 9])\n"
          ]
        }
      ]
    },
    {
      "cell_type": "code",
      "source": [
        "%%time\n",
        "# matrix multipliaction\n",
        "torch.matmul(tensor, tensor)"
      ],
      "metadata": {
        "id": "AFcuSz4pSJhB",
        "colab": {
          "base_uri": "https://localhost:8080/"
        },
        "outputId": "748e0c6b-7403-4723-e581-3c866202c02b"
      },
      "execution_count": null,
      "outputs": [
        {
          "output_type": "stream",
          "name": "stdout",
          "text": [
            "CPU times: user 323 µs, sys: 0 ns, total: 323 µs\n",
            "Wall time: 715 µs\n"
          ]
        },
        {
          "output_type": "execute_result",
          "data": {
            "text/plain": [
              "tensor(14)"
            ]
          },
          "metadata": {},
          "execution_count": 41
        }
      ]
    },
    {
      "cell_type": "code",
      "source": [
        "%%time\n",
        "v = 0\n",
        "for i in range(len(tensor)):\n",
        "  v += tensor[i] * tensor[i]\n",
        "print(v)"
      ],
      "metadata": {
        "id": "zkLoLdjqSJkn",
        "colab": {
          "base_uri": "https://localhost:8080/"
        },
        "outputId": "5d81c5e0-b187-4bb0-aca9-024d31fcb376"
      },
      "execution_count": null,
      "outputs": [
        {
          "output_type": "stream",
          "name": "stdout",
          "text": [
            "tensor(14)\n",
            "CPU times: user 1.5 ms, sys: 0 ns, total: 1.5 ms\n",
            "Wall time: 2.45 ms\n"
          ]
        }
      ]
    },
    {
      "cell_type": "code",
      "source": [
        "%%time\n",
        "tensor @ tensor"
      ],
      "metadata": {
        "id": "1IKAmVnjPZi2",
        "colab": {
          "base_uri": "https://localhost:8080/"
        },
        "outputId": "72ccc8c1-64a6-4572-8e75-cd7f87b82262"
      },
      "execution_count": null,
      "outputs": [
        {
          "output_type": "stream",
          "name": "stdout",
          "text": [
            "CPU times: user 84 µs, sys: 15 µs, total: 99 µs\n",
            "Wall time: 104 µs\n"
          ]
        },
        {
          "output_type": "execute_result",
          "data": {
            "text/plain": [
              "tensor(14)"
            ]
          },
          "metadata": {},
          "execution_count": 43
        }
      ]
    },
    {
      "cell_type": "code",
      "source": [
        "tensor_A = torch.tensor([[1, 2],\n",
        "                         [3, 4],\n",
        "                         [5, 6]])\n",
        "\n",
        "tensor_B = torch.tensor([[7, 10],\n",
        "                         [8, 11],\n",
        "                         [9, 12]])"
      ],
      "metadata": {
        "id": "qicbX_RvdyHd"
      },
      "execution_count": null,
      "outputs": []
    },
    {
      "cell_type": "code",
      "source": [
        "tensor_B.T, tensor_B.T.shape  # transpose"
      ],
      "metadata": {
        "colab": {
          "base_uri": "https://localhost:8080/"
        },
        "id": "strhF2khe5Us",
        "outputId": "14d47bc7-f612-4e17-de74-4f7d9ef01377"
      },
      "execution_count": null,
      "outputs": [
        {
          "output_type": "execute_result",
          "data": {
            "text/plain": [
              "(tensor([[ 7,  8,  9],\n",
              "         [10, 11, 12]]),\n",
              " torch.Size([2, 3]))"
            ]
          },
          "metadata": {},
          "execution_count": 45
        }
      ]
    },
    {
      "cell_type": "code",
      "source": [
        "torch.mm(tensor_A, tensor_B.T)      #torch.mm is torch.matmul"
      ],
      "metadata": {
        "id": "Y6nibKJHe5X3",
        "colab": {
          "base_uri": "https://localhost:8080/"
        },
        "outputId": "99eb341a-ddc9-4013-bda8-a423726b50b4"
      },
      "execution_count": null,
      "outputs": [
        {
          "output_type": "execute_result",
          "data": {
            "text/plain": [
              "tensor([[ 27,  30,  33],\n",
              "        [ 61,  68,  75],\n",
              "        [ 95, 106, 117]])"
            ]
          },
          "metadata": {},
          "execution_count": 46
        }
      ]
    },
    {
      "cell_type": "markdown",
      "source": [
        "# Finding the min max mean sum etc (tensor aggregation)"
      ],
      "metadata": {
        "id": "qny9YZQye5aP"
      }
    },
    {
      "cell_type": "code",
      "source": [
        "x = torch.arange(0,100,10)\n",
        "x"
      ],
      "metadata": {
        "colab": {
          "base_uri": "https://localhost:8080/"
        },
        "id": "JUjf4LPP7YJb",
        "outputId": "55cba1f0-7442-4204-fb45-a2b6ec9ef99e"
      },
      "execution_count": null,
      "outputs": [
        {
          "output_type": "execute_result",
          "data": {
            "text/plain": [
              "tensor([ 0, 10, 20, 30, 40, 50, 60, 70, 80, 90])"
            ]
          },
          "metadata": {},
          "execution_count": 48
        }
      ]
    },
    {
      "cell_type": "code",
      "source": [
        "torch.min(x), x.min()"
      ],
      "metadata": {
        "colab": {
          "base_uri": "https://localhost:8080/"
        },
        "id": "Ayq1kHZo7YLa",
        "outputId": "d3258cbb-28e9-4100-d317-1c950db09116"
      },
      "execution_count": null,
      "outputs": [
        {
          "output_type": "execute_result",
          "data": {
            "text/plain": [
              "(tensor(0), tensor(0))"
            ]
          },
          "metadata": {},
          "execution_count": 49
        }
      ]
    },
    {
      "cell_type": "code",
      "source": [
        "torch.max(x), x.max()"
      ],
      "metadata": {
        "colab": {
          "base_uri": "https://localhost:8080/"
        },
        "id": "XL5WzIj47YNY",
        "outputId": "1857995c-1521-4ad7-dc2e-4960e1085e67"
      },
      "execution_count": null,
      "outputs": [
        {
          "output_type": "execute_result",
          "data": {
            "text/plain": [
              "(tensor(90), tensor(90))"
            ]
          },
          "metadata": {},
          "execution_count": 51
        }
      ]
    },
    {
      "cell_type": "code",
      "source": [
        "# mean function requires float datatypes\n",
        "torch.mean(x.type(torch.float32)), x.type(torch.float32).mean()"
      ],
      "metadata": {
        "colab": {
          "base_uri": "https://localhost:8080/"
        },
        "id": "NyKbjLLC7YP2",
        "outputId": "37b748ae-c529-41c7-f8ee-27cb1a823773"
      },
      "execution_count": null,
      "outputs": [
        {
          "output_type": "execute_result",
          "data": {
            "text/plain": [
              "(tensor(45.), tensor(45.))"
            ]
          },
          "metadata": {},
          "execution_count": 56
        }
      ]
    },
    {
      "cell_type": "code",
      "source": [
        "torch.sum(x), x.sum()"
      ],
      "metadata": {
        "colab": {
          "base_uri": "https://localhost:8080/"
        },
        "id": "fXfz-5fX7YTT",
        "outputId": "50554520-6ecb-415f-c226-8800aab47d9e"
      },
      "execution_count": null,
      "outputs": [
        {
          "output_type": "execute_result",
          "data": {
            "text/plain": [
              "(tensor(450), tensor(450))"
            ]
          },
          "metadata": {},
          "execution_count": 55
        }
      ]
    },
    {
      "cell_type": "markdown",
      "source": [
        "#Finding the positional min and max"
      ],
      "metadata": {
        "id": "TtxzeCBv9ZZq"
      }
    },
    {
      "cell_type": "code",
      "source": [
        "torch.argmin(x), x.argmin()"
      ],
      "metadata": {
        "id": "hGZqMLONe5cf",
        "colab": {
          "base_uri": "https://localhost:8080/"
        },
        "outputId": "af8df858-1300-4b02-face-09a16fe5ee0b"
      },
      "execution_count": null,
      "outputs": [
        {
          "output_type": "execute_result",
          "data": {
            "text/plain": [
              "(tensor(0), tensor(0))"
            ]
          },
          "metadata": {},
          "execution_count": 58
        }
      ]
    },
    {
      "cell_type": "code",
      "source": [
        "torch.argmax(x), x.argmax()"
      ],
      "metadata": {
        "colab": {
          "base_uri": "https://localhost:8080/"
        },
        "id": "BZRheN449Ljd",
        "outputId": "56d0ea71-ddc5-4672-aac5-4bdb0a0afa64"
      },
      "execution_count": null,
      "outputs": [
        {
          "output_type": "execute_result",
          "data": {
            "text/plain": [
              "(tensor(9), tensor(9))"
            ]
          },
          "metadata": {},
          "execution_count": 59
        }
      ]
    },
    {
      "cell_type": "code",
      "source": [
        "a = x.argmax()\n",
        "x[a], x"
      ],
      "metadata": {
        "colab": {
          "base_uri": "https://localhost:8080/"
        },
        "id": "c-vwdz2j9LlS",
        "outputId": "5de95f55-3acb-4410-b87d-956b3263b235"
      },
      "execution_count": null,
      "outputs": [
        {
          "output_type": "execute_result",
          "data": {
            "text/plain": [
              "(tensor(90), tensor([ 0, 10, 20, 30, 40, 50, 60, 70, 80, 90]))"
            ]
          },
          "metadata": {},
          "execution_count": 61
        }
      ]
    },
    {
      "cell_type": "markdown",
      "source": [
        "## Reshaping, stacking, squeezing and unsqueezing tensors\n",
        "* Reshaping- reshapes an input tensor to a defined shape\n",
        "* View - return a view of an input tensor of certain shape but keep the same memory as the original tensor\n",
        "* Stacking - combine multiple tensors on top of each other (vstack) or side by side (hstack)\n",
        "* Squeeze - remove all '1' dimensions from a tensor\n",
        "* Unsqueeze - add a '1' dimension to a target tensor\n",
        "* Permute- return a view of the input with dimensions permuted (swapped) in a certain way"
      ],
      "metadata": {
        "id": "uTzdusEg9LnX"
      }
    },
    {
      "cell_type": "code",
      "source": [
        "# create a tensor\n",
        "\n",
        "x = torch.arange(1.0, 10.0)\n",
        "x, x.shape"
      ],
      "metadata": {
        "colab": {
          "base_uri": "https://localhost:8080/"
        },
        "id": "PTjvp3F99Lpg",
        "outputId": "1b12df5f-358d-426c-e4c4-6ca0a17ba026"
      },
      "execution_count": null,
      "outputs": [
        {
          "output_type": "execute_result",
          "data": {
            "text/plain": [
              "(tensor([1., 2., 3., 4., 5., 6., 7., 8., 9.]), torch.Size([9]))"
            ]
          },
          "metadata": {},
          "execution_count": 62
        }
      ]
    },
    {
      "cell_type": "code",
      "source": [
        "# add a extra dimension\n",
        "# x_reshaped = x.reshape(1, 9)\n",
        "x.reshape(1, 9), x.reshape(9, 1), x.reshape(3, 3), x"
      ],
      "metadata": {
        "colab": {
          "base_uri": "https://localhost:8080/"
        },
        "id": "hskfM9SF9LtD",
        "outputId": "197573d4-e035-44f1-edbb-5d89813e7faa"
      },
      "execution_count": null,
      "outputs": [
        {
          "output_type": "execute_result",
          "data": {
            "text/plain": [
              "(tensor([[1., 2., 3., 4., 5., 6., 7., 8., 9.]]),\n",
              " tensor([[1.],\n",
              "         [2.],\n",
              "         [3.],\n",
              "         [4.],\n",
              "         [5.],\n",
              "         [6.],\n",
              "         [7.],\n",
              "         [8.],\n",
              "         [9.]]),\n",
              " tensor([[1., 2., 3.],\n",
              "         [4., 5., 6.],\n",
              "         [7., 8., 9.]]),\n",
              " tensor([1., 2., 3., 4., 5., 6., 7., 8., 9.]))"
            ]
          },
          "metadata": {},
          "execution_count": 65
        }
      ]
    },
    {
      "cell_type": "code",
      "source": [
        "# change the view\n",
        "z = x.view(1,9)\n",
        "z, z.shape"
      ],
      "metadata": {
        "id": "2jIpHHsEe5gO",
        "colab": {
          "base_uri": "https://localhost:8080/"
        },
        "outputId": "25a631e7-3ea2-453a-a42f-c1d4d827d390"
      },
      "execution_count": null,
      "outputs": [
        {
          "output_type": "execute_result",
          "data": {
            "text/plain": [
              "(tensor([[1., 2., 3., 4., 5., 6., 7., 8., 9.]]), torch.Size([1, 9]))"
            ]
          },
          "metadata": {},
          "execution_count": 66
        }
      ]
    },
    {
      "cell_type": "code",
      "source": [
        "# Changing z changes x (because a view of a tensor shares the same memory as the original input)\n",
        "z[:, 0] = 5\n",
        "z, x"
      ],
      "metadata": {
        "id": "wGwkdvXceoDF",
        "colab": {
          "base_uri": "https://localhost:8080/"
        },
        "outputId": "9f4a2f99-a4ff-4db5-bdd7-a1de0a89cf89"
      },
      "execution_count": null,
      "outputs": [
        {
          "output_type": "execute_result",
          "data": {
            "text/plain": [
              "(tensor([[5., 2., 3., 4., 5., 6., 7., 8., 9.]]),\n",
              " tensor([5., 2., 3., 4., 5., 6., 7., 8., 9.]))"
            ]
          },
          "metadata": {},
          "execution_count": 68
        }
      ]
    },
    {
      "cell_type": "code",
      "source": [
        "# Stack tensors on top of each other\n",
        "# x_stacked = torch.stack([x,x,x,x], dim=0)\n",
        "torch.stack([x,x,x,x], dim=0), torch.stack([x,x,x,x], dim=1), x"
      ],
      "metadata": {
        "colab": {
          "base_uri": "https://localhost:8080/"
        },
        "id": "INMhijNHAffU",
        "outputId": "81024304-5652-449a-d3bb-20217b58709d"
      },
      "execution_count": null,
      "outputs": [
        {
          "output_type": "execute_result",
          "data": {
            "text/plain": [
              "(tensor([[5., 2., 3., 4., 5., 6., 7., 8., 9.],\n",
              "         [5., 2., 3., 4., 5., 6., 7., 8., 9.],\n",
              "         [5., 2., 3., 4., 5., 6., 7., 8., 9.],\n",
              "         [5., 2., 3., 4., 5., 6., 7., 8., 9.]]),\n",
              " tensor([[5., 5., 5., 5.],\n",
              "         [2., 2., 2., 2.],\n",
              "         [3., 3., 3., 3.],\n",
              "         [4., 4., 4., 4.],\n",
              "         [5., 5., 5., 5.],\n",
              "         [6., 6., 6., 6.],\n",
              "         [7., 7., 7., 7.],\n",
              "         [8., 8., 8., 8.],\n",
              "         [9., 9., 9., 9.]]),\n",
              " tensor([5., 2., 3., 4., 5., 6., 7., 8., 9.]))"
            ]
          },
          "metadata": {},
          "execution_count": 73
        }
      ]
    },
    {
      "cell_type": "code",
      "source": [
        "# Squeeze\n",
        "x_reshaped = x.reshape(1, 9)\n",
        "\n",
        "x_reshaped, x_reshaped.shape, x_reshaped.squeeze(), x_reshaped.squeeze().shape"
      ],
      "metadata": {
        "colab": {
          "base_uri": "https://localhost:8080/"
        },
        "id": "5wUbyHgUAznu",
        "outputId": "041fb876-c4b3-4f93-aa7c-813b6b2929af"
      },
      "execution_count": null,
      "outputs": [
        {
          "output_type": "execute_result",
          "data": {
            "text/plain": [
              "(tensor([[5., 2., 3., 4., 5., 6., 7., 8., 9.]]),\n",
              " torch.Size([1, 9]),\n",
              " tensor([5., 2., 3., 4., 5., 6., 7., 8., 9.]),\n",
              " torch.Size([9]))"
            ]
          },
          "metadata": {},
          "execution_count": 74
        }
      ]
    },
    {
      "cell_type": "code",
      "source": [
        "# Unsqueeze\n",
        "x_squeeze = x_reshaped.squeeze()\n",
        "x_squeeze, x_squeeze.shape, x_squeeze.unsqueeze(dim=0), x_squeeze.unsqueeze(dim=0).shape ,x_squeeze.unsqueeze(dim=1), x_squeeze.unsqueeze(dim=1).shape"
      ],
      "metadata": {
        "colab": {
          "base_uri": "https://localhost:8080/"
        },
        "id": "_MZapFOkAzp0",
        "outputId": "44c433fd-4ca4-4180-d477-ecd113950b57"
      },
      "execution_count": null,
      "outputs": [
        {
          "output_type": "execute_result",
          "data": {
            "text/plain": [
              "(tensor([5., 2., 3., 4., 5., 6., 7., 8., 9.]),\n",
              " torch.Size([9]),\n",
              " tensor([[5., 2., 3., 4., 5., 6., 7., 8., 9.]]),\n",
              " torch.Size([1, 9]),\n",
              " tensor([[5.],\n",
              "         [2.],\n",
              "         [3.],\n",
              "         [4.],\n",
              "         [5.],\n",
              "         [6.],\n",
              "         [7.],\n",
              "         [8.],\n",
              "         [9.]]),\n",
              " torch.Size([9, 1]))"
            ]
          },
          "metadata": {},
          "execution_count": 77
        }
      ]
    },
    {
      "cell_type": "code",
      "source": [
        "# torch.permute rearranges the dimensions of a target tensor in a specified order\n",
        "x_original = torch.rand(size=(224,224,3)) # [height, width, channel]\n",
        "\n",
        "# Permute the original tensor to rerrange the axis (or dim) order\n",
        "x_permuted = x_original.permute(2, 0, 1)\n",
        "\n",
        "\n",
        "x_permuted.shape, x_original.shape"
      ],
      "metadata": {
        "colab": {
          "base_uri": "https://localhost:8080/"
        },
        "id": "CdhGZk09AzsX",
        "outputId": "602eaa08-b477-497a-8af1-3127d2b27563"
      },
      "execution_count": null,
      "outputs": [
        {
          "output_type": "execute_result",
          "data": {
            "text/plain": [
              "(torch.Size([3, 224, 224]), torch.Size([224, 224, 3]))"
            ]
          },
          "metadata": {},
          "execution_count": 80
        }
      ]
    },
    {
      "cell_type": "code",
      "source": [
        "# Permutino holds the same memory of original\n",
        "x_original[0,0,0] = 72818\n",
        "x_original[0,0,0], x_permuted[0,0,0]"
      ],
      "metadata": {
        "colab": {
          "base_uri": "https://localhost:8080/"
        },
        "id": "cXUL2W5pAzuQ",
        "outputId": "d3dd9393-35fc-4b68-f6a5-748b113964d8"
      },
      "execution_count": null,
      "outputs": [
        {
          "output_type": "execute_result",
          "data": {
            "text/plain": [
              "(tensor(72818.), tensor(72818.))"
            ]
          },
          "metadata": {},
          "execution_count": 81
        }
      ]
    },
    {
      "cell_type": "markdown",
      "source": [
        "## Indexing (selecting data from tensors)\n",
        "\n",
        "Indexing with PyTorch is similar to indexing with Numpy"
      ],
      "metadata": {
        "id": "Uiaxg44nAzwJ"
      }
    },
    {
      "cell_type": "code",
      "source": [
        "x = torch.arange(1, 10).reshape(1,3,3)\n",
        "x, x.shape"
      ],
      "metadata": {
        "colab": {
          "base_uri": "https://localhost:8080/"
        },
        "id": "Qddahs9WAzyK",
        "outputId": "c8aaa2b0-0e4c-433e-e969-1f039de0bd7a"
      },
      "execution_count": null,
      "outputs": [
        {
          "output_type": "execute_result",
          "data": {
            "text/plain": [
              "(tensor([[[1, 2, 3],\n",
              "          [4, 5, 6],\n",
              "          [7, 8, 9]]]),\n",
              " torch.Size([1, 3, 3]))"
            ]
          },
          "metadata": {},
          "execution_count": 82
        }
      ]
    },
    {
      "cell_type": "code",
      "source": [
        "x, x[0], x[0,0], x[0,0,0]"
      ],
      "metadata": {
        "colab": {
          "base_uri": "https://localhost:8080/"
        },
        "id": "Ga-oTbHWAz0b",
        "outputId": "ad4cb3e9-147f-41e7-b729-32cceab033b5"
      },
      "execution_count": null,
      "outputs": [
        {
          "output_type": "execute_result",
          "data": {
            "text/plain": [
              "(tensor([[[1, 2, 3],\n",
              "          [4, 5, 6],\n",
              "          [7, 8, 9]]]),\n",
              " tensor([[1, 2, 3],\n",
              "         [4, 5, 6],\n",
              "         [7, 8, 9]]),\n",
              " tensor([1, 2, 3]),\n",
              " tensor(1))"
            ]
          },
          "metadata": {},
          "execution_count": 86
        }
      ]
    },
    {
      "cell_type": "code",
      "source": [
        "x[:,:,2], x[0,2,2]"
      ],
      "metadata": {
        "colab": {
          "base_uri": "https://localhost:8080/"
        },
        "id": "ct3BP2GMAz2s",
        "outputId": "ce617bb8-9923-4e1c-e3d8-9f8d4fbfd27f"
      },
      "execution_count": null,
      "outputs": [
        {
          "output_type": "execute_result",
          "data": {
            "text/plain": [
              "(tensor([[3, 6, 9]]), tensor(9))"
            ]
          },
          "metadata": {},
          "execution_count": 88
        }
      ]
    },
    {
      "cell_type": "markdown",
      "source": [
        "## Pytorch tensors & Numpy\n",
        "\n",
        "* Data in Numpy, want in PyTorch tensor -> torch.from_numoy(ndarray)\n",
        "* PyTorch tensor -> Numpy -> torch.Tensor.numpy()"
      ],
      "metadata": {
        "id": "248TgEZEAz5E"
      }
    },
    {
      "cell_type": "code",
      "source": [
        "import numpy as np\n",
        "\n",
        "array = np.arange(1.0, 8.0)\n",
        "tensor = torch.from_numpy(array)\n",
        "array, tensor"
      ],
      "metadata": {
        "colab": {
          "base_uri": "https://localhost:8080/"
        },
        "id": "5A_FgQvUAz7O",
        "outputId": "5704ee8c-8900-4d91-9d55-339b04997de9"
      },
      "execution_count": null,
      "outputs": [
        {
          "output_type": "execute_result",
          "data": {
            "text/plain": [
              "(array([1., 2., 3., 4., 5., 6., 7.]),\n",
              " tensor([1., 2., 3., 4., 5., 6., 7.], dtype=torch.float64))"
            ]
          },
          "metadata": {},
          "execution_count": 89
        }
      ]
    },
    {
      "cell_type": "markdown",
      "source": [
        "numpy by default use float64 where as Pytorch tensor use float32\n",
        "so when converting from numpy to pytorch, it by default uses the float64 datatypes unless it's specified otherwise.\n"
      ],
      "metadata": {
        "id": "OuyIn6lGPh3m"
      }
    },
    {
      "cell_type": "code",
      "source": [
        "torch.arange(1.0, 8.0).dtype"
      ],
      "metadata": {
        "colab": {
          "base_uri": "https://localhost:8080/"
        },
        "id": "-MJ7f1P1Az9E",
        "outputId": "8153279e-5680-4138-cc91-01af39e2821f"
      },
      "execution_count": null,
      "outputs": [
        {
          "output_type": "execute_result",
          "data": {
            "text/plain": [
              "torch.float32"
            ]
          },
          "metadata": {},
          "execution_count": 90
        }
      ]
    },
    {
      "cell_type": "code",
      "source": [
        "# change the value of array\n",
        "\n",
        "array = array+1\n",
        "array, tensor"
      ],
      "metadata": {
        "colab": {
          "base_uri": "https://localhost:8080/"
        },
        "id": "u5C5wwS4Az_Q",
        "outputId": "30f2c0df-4de0-4dcf-9877-b0c82fedd5f7"
      },
      "execution_count": null,
      "outputs": [
        {
          "output_type": "execute_result",
          "data": {
            "text/plain": [
              "(array([2., 3., 4., 5., 6., 7., 8.]),\n",
              " tensor([1., 2., 3., 4., 5., 6., 7.], dtype=torch.float64))"
            ]
          },
          "metadata": {},
          "execution_count": 91
        }
      ]
    },
    {
      "cell_type": "markdown",
      "source": [
        "So the array and tensor doesn't hold the same memory"
      ],
      "metadata": {
        "id": "BUKpHwCsQYvE"
      }
    },
    {
      "cell_type": "code",
      "source": [
        "tensor = torch.ones(7)\n",
        "numpy_tensor = tensor.numpy()\n",
        "tensor, numpy_tensor"
      ],
      "metadata": {
        "colab": {
          "base_uri": "https://localhost:8080/"
        },
        "id": "4fYNrjG_A0Bi",
        "outputId": "49c883ac-2917-4ef5-ba0a-8a7e6a11e7e6"
      },
      "execution_count": null,
      "outputs": [
        {
          "output_type": "execute_result",
          "data": {
            "text/plain": [
              "(tensor([1., 1., 1., 1., 1., 1., 1.]),\n",
              " array([1., 1., 1., 1., 1., 1., 1.], dtype=float32))"
            ]
          },
          "metadata": {},
          "execution_count": 94
        }
      ]
    },
    {
      "cell_type": "code",
      "source": [
        "tensor = tensor + 1\n",
        "tensor, numpy_tensor"
      ],
      "metadata": {
        "colab": {
          "base_uri": "https://localhost:8080/"
        },
        "id": "Fxw831ikA0Dk",
        "outputId": "cc19ff37-bbe9-4979-aee1-023e0955de42"
      },
      "execution_count": null,
      "outputs": [
        {
          "output_type": "execute_result",
          "data": {
            "text/plain": [
              "(tensor([2., 2., 2., 2., 2., 2., 2.]),\n",
              " array([1., 1., 1., 1., 1., 1., 1.], dtype=float32))"
            ]
          },
          "metadata": {},
          "execution_count": 95
        }
      ]
    },
    {
      "cell_type": "markdown",
      "source": [
        "So the array and tensor doesn't hold the same memory"
      ],
      "metadata": {
        "id": "xCTFjnO1Q8Kw"
      }
    },
    {
      "cell_type": "markdown",
      "source": [
        "## Reproductibility (trying to take random out of random)\n",
        "\n",
        "to reduce the randomness we use **random seed**"
      ],
      "metadata": {
        "id": "Eg87WSlKA0G7"
      }
    },
    {
      "cell_type": "code",
      "source": [
        "import torch\n",
        "\n",
        "random_tensor_A = torch.rand(3, 4)\n",
        "random_tensor_B = torch.rand(3, 4)\n",
        "\n",
        "random_tensor_A==random_tensor_B, random_tensor_A, random_tensor_B"
      ],
      "metadata": {
        "id": "orCw7HUHQ-yp",
        "colab": {
          "base_uri": "https://localhost:8080/"
        },
        "outputId": "b84df6e5-5b14-4783-d050-a066ce30b458"
      },
      "execution_count": null,
      "outputs": [
        {
          "output_type": "execute_result",
          "data": {
            "text/plain": [
              "(tensor([[False, False, False, False],\n",
              "         [False, False, False, False],\n",
              "         [False, False, False, False]]),\n",
              " tensor([[0.2971, 0.3991, 0.9360, 0.1274],\n",
              "         [0.4575, 0.5185, 0.0040, 0.4525],\n",
              "         [0.0682, 0.1724, 0.6878, 0.8658]]),\n",
              " tensor([[0.3472, 0.4100, 0.2569, 0.2188],\n",
              "         [0.9263, 0.8227, 0.0879, 0.0446],\n",
              "         [0.5038, 0.0647, 0.3088, 0.2542]]))"
            ]
          },
          "metadata": {},
          "execution_count": 1
        }
      ]
    },
    {
      "cell_type": "code",
      "source": [
        "RANDOM_SEED = 42\n",
        "\n",
        "torch.manual_seed(RANDOM_SEED)\n",
        "random_tensor_C = torch.rand(3, 4)\n",
        "\n",
        "torch.manual_seed(RANDOM_SEED)\n",
        "random_tensor_D =  torch.rand(3, 4)\n",
        "\n",
        "random_tensor_C == random_tensor_D, random_tensor_C, random_tensor_D"
      ],
      "metadata": {
        "id": "WmDtTefPQ-2W",
        "colab": {
          "base_uri": "https://localhost:8080/"
        },
        "outputId": "c3cf4692-1032-499a-de3d-192be7e16acc"
      },
      "execution_count": null,
      "outputs": [
        {
          "output_type": "execute_result",
          "data": {
            "text/plain": [
              "(tensor([[True, True, True, True],\n",
              "         [True, True, True, True],\n",
              "         [True, True, True, True]]),\n",
              " tensor([[0.8823, 0.9150, 0.3829, 0.9593],\n",
              "         [0.3904, 0.6009, 0.2566, 0.7936],\n",
              "         [0.9408, 0.1332, 0.9346, 0.5936]]),\n",
              " tensor([[0.8823, 0.9150, 0.3829, 0.9593],\n",
              "         [0.3904, 0.6009, 0.2566, 0.7936],\n",
              "         [0.9408, 0.1332, 0.9346, 0.5936]]))"
            ]
          },
          "metadata": {},
          "execution_count": 6
        }
      ]
    },
    {
      "cell_type": "markdown",
      "source": [
        "## Running tensors and PyTorch objects on GPU"
      ],
      "metadata": {
        "id": "7uenCjwXQ-4X"
      }
    },
    {
      "cell_type": "code",
      "source": [
        "!nvidia-smi"
      ],
      "metadata": {
        "id": "XWXolLeQQ-6o",
        "colab": {
          "base_uri": "https://localhost:8080/"
        },
        "outputId": "8d599914-067b-45f2-999b-92ff58208d05"
      },
      "execution_count": null,
      "outputs": [
        {
          "output_type": "stream",
          "name": "stdout",
          "text": [
            "Wed Apr 26 12:43:53 2023       \n",
            "+-----------------------------------------------------------------------------+\n",
            "| NVIDIA-SMI 525.85.12    Driver Version: 525.85.12    CUDA Version: 12.0     |\n",
            "|-------------------------------+----------------------+----------------------+\n",
            "| GPU  Name        Persistence-M| Bus-Id        Disp.A | Volatile Uncorr. ECC |\n",
            "| Fan  Temp  Perf  Pwr:Usage/Cap|         Memory-Usage | GPU-Util  Compute M. |\n",
            "|                               |                      |               MIG M. |\n",
            "|===============================+======================+======================|\n",
            "|   0  Tesla T4            Off  | 00000000:00:04.0 Off |                    0 |\n",
            "| N/A   44C    P8     9W /  70W |      0MiB / 15360MiB |      0%      Default |\n",
            "|                               |                      |                  N/A |\n",
            "+-------------------------------+----------------------+----------------------+\n",
            "                                                                               \n",
            "+-----------------------------------------------------------------------------+\n",
            "| Processes:                                                                  |\n",
            "|  GPU   GI   CI        PID   Type   Process name                  GPU Memory |\n",
            "|        ID   ID                                                   Usage      |\n",
            "|=============================================================================|\n",
            "|  No running processes found                                                 |\n",
            "+-----------------------------------------------------------------------------+\n"
          ]
        }
      ]
    },
    {
      "cell_type": "markdown",
      "source": [
        "## Check for GPU access with PyTorch"
      ],
      "metadata": {
        "id": "N-FInoR7Q-8y"
      }
    },
    {
      "cell_type": "code",
      "source": [
        "import torch\n",
        "torch.cuda.is_available()"
      ],
      "metadata": {
        "colab": {
          "base_uri": "https://localhost:8080/"
        },
        "id": "SqfE7fjCmJBJ",
        "outputId": "4c1cfce7-df0d-4674-9c61-bd764c97c673"
      },
      "execution_count": null,
      "outputs": [
        {
          "output_type": "execute_result",
          "data": {
            "text/plain": [
              "True"
            ]
          },
          "metadata": {},
          "execution_count": 3
        }
      ]
    },
    {
      "cell_type": "code",
      "source": [
        "device = 'cuda' if torch.cuda.is_available() else 'cpu'\n",
        "device"
      ],
      "metadata": {
        "colab": {
          "base_uri": "https://localhost:8080/",
          "height": 36
        },
        "id": "-tToohE5mJDA",
        "outputId": "af0efd41-8388-459a-da6d-7d8e0bff424f"
      },
      "execution_count": null,
      "outputs": [
        {
          "output_type": "execute_result",
          "data": {
            "text/plain": [
              "'cuda'"
            ],
            "application/vnd.google.colaboratory.intrinsic+json": {
              "type": "string"
            }
          },
          "metadata": {},
          "execution_count": 5
        }
      ]
    },
    {
      "cell_type": "code",
      "source": [
        "# count number of devices\n",
        "\n",
        "torch.cuda.device_count()"
      ],
      "metadata": {
        "colab": {
          "base_uri": "https://localhost:8080/"
        },
        "id": "XPCgK7pPmJE-",
        "outputId": "8dd726be-dbcd-4f1e-e001-f1291c04b87c"
      },
      "execution_count": null,
      "outputs": [
        {
          "output_type": "execute_result",
          "data": {
            "text/plain": [
              "1"
            ]
          },
          "metadata": {},
          "execution_count": 6
        }
      ]
    },
    {
      "cell_type": "markdown",
      "source": [
        "## Putting tensors (and models) on the GPU\n",
        "\n",
        "the reason is GPU results in faster compuatation"
      ],
      "metadata": {
        "id": "BtS3jfjImJIY"
      }
    },
    {
      "cell_type": "code",
      "source": [
        "tensor = torch.tensor([1,2,3])\n",
        "\n",
        "#tensor not on GPU\n",
        "tensor, tensor.device"
      ],
      "metadata": {
        "id": "3KyKxSWyQ--r",
        "colab": {
          "base_uri": "https://localhost:8080/"
        },
        "outputId": "5d0d32fc-1cc2-4944-f5a1-0b6e450a5d43"
      },
      "execution_count": null,
      "outputs": [
        {
          "output_type": "execute_result",
          "data": {
            "text/plain": [
              "(tensor([1, 2, 3]), device(type='cpu'))"
            ]
          },
          "metadata": {},
          "execution_count": 8
        }
      ]
    },
    {
      "cell_type": "code",
      "source": [
        "# Move tensor to GPU (if available)\n",
        "tensor_on_gpu = tensor.to(device)\n",
        "tensor_on_gpu"
      ],
      "metadata": {
        "id": "RIrYPeSvQ_A4",
        "colab": {
          "base_uri": "https://localhost:8080/"
        },
        "outputId": "bd0369f6-afe2-40c4-c16f-3a7eb5c6da96"
      },
      "execution_count": null,
      "outputs": [
        {
          "output_type": "execute_result",
          "data": {
            "text/plain": [
              "tensor([1, 2, 3], device='cuda:0')"
            ]
          },
          "metadata": {},
          "execution_count": 9
        }
      ]
    },
    {
      "cell_type": "markdown",
      "source": [
        "## Moving tensors back to CPU for numpy"
      ],
      "metadata": {
        "id": "pJnJ69zHnomb"
      }
    },
    {
      "cell_type": "code",
      "source": [
        "tensor_back_on_cpu = tensor_on_gpu.cpu().numpy()\n",
        "tensor_back_on_cpu"
      ],
      "metadata": {
        "colab": {
          "base_uri": "https://localhost:8080/"
        },
        "id": "CXPT7ASanooi",
        "outputId": "d499e83d-8f14-4a28-b9b1-3e643be1f579"
      },
      "execution_count": null,
      "outputs": [
        {
          "output_type": "execute_result",
          "data": {
            "text/plain": [
              "array([1, 2, 3])"
            ]
          },
          "metadata": {},
          "execution_count": 11
        }
      ]
    },
    {
      "cell_type": "code",
      "source": [],
      "metadata": {
        "id": "6iXs5J2mnoqr"
      },
      "execution_count": null,
      "outputs": []
    },
    {
      "cell_type": "code",
      "source": [],
      "metadata": {
        "id": "VLlryuGinos-"
      },
      "execution_count": null,
      "outputs": []
    },
    {
      "cell_type": "code",
      "source": [],
      "metadata": {
        "id": "LAAOBNx5noux"
      },
      "execution_count": null,
      "outputs": []
    },
    {
      "cell_type": "code",
      "source": [],
      "metadata": {
        "id": "BGWjB9VHnow3"
      },
      "execution_count": null,
      "outputs": []
    },
    {
      "cell_type": "code",
      "source": [],
      "metadata": {
        "id": "eG9Zs7Pjnoy9"
      },
      "execution_count": null,
      "outputs": []
    },
    {
      "cell_type": "code",
      "source": [],
      "metadata": {
        "id": "xTXyce8cno1F"
      },
      "execution_count": null,
      "outputs": []
    },
    {
      "cell_type": "code",
      "source": [],
      "metadata": {
        "id": "OSgls4kUno3L"
      },
      "execution_count": null,
      "outputs": []
    },
    {
      "cell_type": "code",
      "source": [],
      "metadata": {
        "id": "n_dWtRyono5e"
      },
      "execution_count": null,
      "outputs": []
    },
    {
      "cell_type": "code",
      "source": [],
      "metadata": {
        "id": "QUyjIRVzno7V"
      },
      "execution_count": null,
      "outputs": []
    },
    {
      "cell_type": "code",
      "source": [],
      "metadata": {
        "id": "ZnXgSuxMno9p"
      },
      "execution_count": null,
      "outputs": []
    },
    {
      "cell_type": "code",
      "source": [],
      "metadata": {
        "id": "YZRLoW3Xno_W"
      },
      "execution_count": null,
      "outputs": []
    },
    {
      "cell_type": "code",
      "source": [],
      "metadata": {
        "id": "MHlgJDKpnpB0"
      },
      "execution_count": null,
      "outputs": []
    },
    {
      "cell_type": "code",
      "source": [],
      "metadata": {
        "id": "lRyXJ9SOnpEf"
      },
      "execution_count": null,
      "outputs": []
    },
    {
      "cell_type": "code",
      "source": [],
      "metadata": {
        "id": "I0kgHrzXnpHC"
      },
      "execution_count": null,
      "outputs": []
    },
    {
      "cell_type": "code",
      "source": [],
      "metadata": {
        "id": "izfcM2KKnpKs"
      },
      "execution_count": null,
      "outputs": []
    },
    {
      "cell_type": "code",
      "source": [],
      "metadata": {
        "id": "oZYsaUWnQ_ER"
      },
      "execution_count": null,
      "outputs": []
    }
  ]
}